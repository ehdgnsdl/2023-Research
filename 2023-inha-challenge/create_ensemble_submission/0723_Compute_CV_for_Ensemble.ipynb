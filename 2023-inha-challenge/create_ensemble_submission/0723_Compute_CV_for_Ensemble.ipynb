{
 "cells": [
  {
   "cell_type": "code",
   "execution_count": 1,
   "id": "3b686203",
   "metadata": {},
   "outputs": [],
   "source": [
    "import pandas as pd\n",
    "import numpy as np\n",
    "import pickle\n",
    "import ast\n",
    "import torch\n",
    "from itertools import product\n",
    "import math"
   ]
  },
  {
   "cell_type": "code",
   "execution_count": 2,
   "id": "f5478f21",
   "metadata": {},
   "outputs": [],
   "source": [
    "with open(\"pos_items.pkl\",\"rb\") as f:\n",
    "    pos_items = pickle.load(f)\n",
    "    \n",
    "with open(\"pos_len_list.pkl\",\"rb\") as f:\n",
    "    pos_len_list = pickle.load(f)\n",
    "    \n",
    "with open(\"id.pkl\",\"rb\") as f:\n",
    "    id_list = pickle.load(f)"
   ]
  },
  {
   "cell_type": "code",
   "execution_count": 3,
   "id": "f6c08fea",
   "metadata": {},
   "outputs": [
    {
     "data": {
      "text/plain": [
       "192403"
      ]
     },
     "execution_count": 3,
     "metadata": {},
     "output_type": "execute_result"
    }
   ],
   "source": [
    "len(pos_items)"
   ]
  },
  {
   "cell_type": "markdown",
   "id": "3c0c5ca7",
   "metadata": {},
   "source": [
    "# Compute CV\n",
    "* topk_index: top_items"
   ]
  },
  {
   "cell_type": "code",
   "execution_count": 4,
   "id": "5173f4e5",
   "metadata": {},
   "outputs": [],
   "source": [
    "import numpy as np\n",
    "def ndcg_(pos_index, pos_len):\n",
    "    r\"\"\"NDCG_ (also known as normalized discounted cumulative gain) is a measure of ranking quality.\n",
    "    Through normalizing the score, users and their recommendation list results in the whole test set can be evaluated.\n",
    "    .. _NDCG: https://en.wikipedia.org/wiki/Discounted_cumulative_gain#Normalized_DCG\n",
    "\n",
    "    .. math::\n",
    "        \\begin{gather}\n",
    "            \\mathrm {DCG@K}=\\sum_{i=1}^{K} \\frac{2^{rel_i}-1}{\\log_{2}{(i+1)}}\\\\\n",
    "            \\mathrm {IDCG@K}=\\sum_{i=1}^{K}\\frac{1}{\\log_{2}{(i+1)}}\\\\\n",
    "            \\mathrm {NDCG_u@K}=\\frac{DCG_u@K}{IDCG_u@K}\\\\\n",
    "            \\mathrm {NDCG@K}=\\frac{\\sum \\nolimits_{u \\in u^{te}NDCG_u@K}}{|u^{te}|}\n",
    "        \\end{gather}\n",
    "\n",
    "    :math:`K` stands for recommending :math:`K` items.\n",
    "    And the :math:`rel_i` is the relevance of the item in position :math:`i` in the recommendation list.\n",
    "    :math:`2^{rel_i}` equals to 1 if the item hits otherwise 0.\n",
    "    :math:`U^{te}` is for all users in the test set.\n",
    "    \"\"\"\n",
    "    len_rank = np.full_like(pos_len, pos_index.shape[1])\n",
    "    idcg_len = np.where(pos_len > len_rank, len_rank, pos_len)\n",
    "\n",
    "    # iranks = np.zeros_like(pos_index, dtype=np.float)\n",
    "    iranks = np.zeros_like(pos_index, dtype=float)\n",
    "    iranks[:, :] = np.arange(1, pos_index.shape[1] + 1)\n",
    "    idcg = np.cumsum(1.0 / np.log2(iranks + 1), axis=1)\n",
    "    for row, idx in enumerate(idcg_len):\n",
    "        idcg[row, idx:] = idcg[row, idx - 1]\n",
    "\n",
    "    # ranks = np.zeros_like(pos_index, dtype=np.float)\n",
    "    ranks = np.zeros_like(pos_index, dtype=float)\n",
    "    ranks[:, :] = np.arange(1, pos_index.shape[1] + 1)\n",
    "    dcg = 1.0 / np.log2(ranks + 1)\n",
    "    dcg = np.cumsum(np.where(pos_index, dcg, 0), axis=1)\n",
    "\n",
    "    result = dcg / idcg\n",
    "    return result.mean(axis=0)\n",
    "\n",
    "\n",
    "\"\"\"Function name and function mapper.\n",
    "Useful when we have to serialize evaluation metric names\n",
    "and call the functions based on deserialized names\n",
    "\"\"\"\n",
    "metrics_dict = {\n",
    "    'ndcg': ndcg_,\n",
    "}\n",
    "\n",
    "def _calculate_metrics(pos_len_list, topk_index):\n",
    "    \"\"\"integrate the results of each batch and evaluate the topk metrics by users\n",
    "\n",
    "    Args:\n",
    "        pos_len_list (list): a list of users' positive items\n",
    "        topk_index (np.ndarray): a matrix which contains the index of the topk items for users\n",
    "    Returns:\n",
    "        np.ndarray: a matrix which contains the metrics result\n",
    "    \"\"\"\n",
    "    result_list = []\n",
    "    for metric in metrics:\n",
    "        metric_fuc = metrics_dict[metric.lower()]\n",
    "        result = metric_fuc(topk_index, pos_len_list)\n",
    "        result_list.append(result)\n",
    "    return np.stack(result_list, axis=0)"
   ]
  },
  {
   "cell_type": "markdown",
   "id": "fc357c66",
   "metadata": {},
   "source": [
    "# 순서 Ensemble"
   ]
  },
  {
   "cell_type": "code",
   "execution_count": 6,
   "id": "67016f20",
   "metadata": {},
   "outputs": [],
   "source": [
    "df1 = pd.read_csv(\"./../csv/SLMRec-inha-Aug-07-2023-04-19-09-['learning_rate', 'ssl_temp', 'ssl_alpha', 'reg', 'seed']-(0.0001, 1.0, 0.01, 0.01, 999)-100.csv\")\n",
    "\n",
    "df2 = pd.read_csv(\"./../csv/BM3-inha-idx0-top100-ndcg50-0.0-Aug-06-2023-23-29-56.csv\")\n",
    "\n",
    "df3 = pd.read_csv(\"./../csv/BM3-inha-Aug-04-2023-21-33-10-['n_layers', 'reg_weight', 'dropout', 'seed']-(1, 0.01, 0.3, 999)-100.csv\")\n",
    "\n",
    "df4 = pd.read_csv(\"./../csv/SLMRec-inha-Aug-07-2023-02-27-12-['learning_rate', 'ssl_temp', 'ssl_alpha', 'reg', 'seed']-(0.0001, 1.0, 0.01, 0.0001, 999)-100.csv\")\n",
    "\n",
    "new_dfs = [df1, df2, df3, df4]"
   ]
  },
  {
   "cell_type": "markdown",
   "id": "eb64850b",
   "metadata": {},
   "source": [
    "# 빈번한 item_df에 따라서 weight 부여"
   ]
  },
  {
   "cell_type": "code",
   "execution_count": 7,
   "id": "bc5f52ad",
   "metadata": {},
   "outputs": [
    {
     "name": "stdout",
     "output_type": "stream",
     "text": [
      "new_df1:\n",
      "           user_id  item_id  order_weight\n",
      "0               0    38629  6.338253e+29\n",
      "1               0     2489  3.169127e+29\n",
      "2               0    26494  1.584563e+29\n",
      "3               0    44623  7.922816e+28\n",
      "4               0    48094  3.961408e+28\n",
      "...           ...      ...           ...\n",
      "19240295   192402    24959  1.600000e+01\n",
      "19240296   192402    16595  8.000000e+00\n",
      "19240297   192402    29321  4.000000e+00\n",
      "19240298   192402     8087  2.000000e+00\n",
      "19240299   192402    45587  1.000000e+00\n",
      "\n",
      "[19240300 rows x 3 columns]\n",
      "new_df2:\n",
      "           user_id  item_id  order_weight\n",
      "0               0    52521  6.338253e+29\n",
      "1               0     4393  3.169127e+29\n",
      "2               0    33659  1.584563e+29\n",
      "3               0     8198  7.922816e+28\n",
      "4               0    56414  3.961408e+28\n",
      "...           ...      ...           ...\n",
      "19240295   192402    62490  1.600000e+01\n",
      "19240296   192402    31422  8.000000e+00\n",
      "19240297   192402    51081  4.000000e+00\n",
      "19240298   192402    24452  2.000000e+00\n",
      "19240299   192402     8713  1.000000e+00\n",
      "\n",
      "[19240300 rows x 3 columns]\n",
      "new_df3:\n",
      "           user_id  item_id  order_weight\n",
      "0               0    12124  6.338253e+29\n",
      "1               0    36004  3.169127e+29\n",
      "2               0    51536  1.584563e+29\n",
      "3               0    51026  7.922816e+28\n",
      "4               0    52361  3.961408e+28\n",
      "...           ...      ...           ...\n",
      "19240295   192402    51705  1.600000e+01\n",
      "19240296   192402    57254  8.000000e+00\n",
      "19240297   192402    39853  4.000000e+00\n",
      "19240298   192402    32338  2.000000e+00\n",
      "19240299   192402    62607  1.000000e+00\n",
      "\n",
      "[19240300 rows x 3 columns]\n",
      "new_df4:\n",
      "           user_id  item_id  order_weight\n",
      "0               0    38629  6.338253e+29\n",
      "1               0     2489  3.169127e+29\n",
      "2               0    26494  1.584563e+29\n",
      "3               0    44623  7.922816e+28\n",
      "4               0    48094  3.961408e+28\n",
      "...           ...      ...           ...\n",
      "19240295   192402    24959  1.600000e+01\n",
      "19240296   192402    16595  8.000000e+00\n",
      "19240297   192402    29321  4.000000e+00\n",
      "19240298   192402     8087  2.000000e+00\n",
      "19240299   192402    45587  1.000000e+00\n",
      "\n",
      "[19240300 rows x 3 columns]\n"
     ]
    }
   ],
   "source": [
    "for new_df in new_dfs:\n",
    "    # dtype 변경\n",
    "    new_df['user_id'] = new_df['user_id'].astype('int32')\n",
    "    new_df['item_id'] = new_df['item_id'].astype('int32')\n",
    "\n",
    "    # ID별로 그룹을 지정하고, 각 그룹에 대해 지수승의 가중치를 부여\n",
    "    new_df['order_weight'] = new_df.groupby('user_id').cumcount(ascending=False).apply(lambda x: math.pow(2, x))\n",
    "    # new_df['order_weight'] = new_df.groupby('user_id').cumcount(ascending=False) + 1\n",
    "\n",
    "#     # 아이템 빈도수에 따른 가중치 계산, 로그 변환을 통해 빈도수의 영향을 줄임\n",
    "#     item_counts = item_df['itemID'].value_counts()\n",
    "#     top100_items = item_counts[:100]\n",
    "#     top100_item_weights = np.log1p(top100_items)\n",
    "\n",
    "#     # 상위 100개 아이템에 대한 가중치를 new_df에 추가\n",
    "#     new_df['item_weight'] = new_df['item_id'].map(top100_item_weights).fillna(0)    \n",
    "\n",
    "#     # 최종 가중치는 order_weight와 item_weight의 합산 또는 곱으로 할 수 있습니다.\n",
    "#     # 아래 예제는 합산을 사용하였습니다.\n",
    "#     new_df['final_weight'] = new_df['order_weight'] + new_df['item_weight']\n",
    "\n",
    "# 결과 확인\n",
    "for i, new_df in enumerate(new_dfs):\n",
    "    print(f'new_df{i+1}:\\n', new_df)"
   ]
  },
  {
   "cell_type": "markdown",
   "id": "de5b0bca",
   "metadata": {},
   "source": [
    "# dataframe 합친 후 order_weight 평균"
   ]
  },
  {
   "cell_type": "code",
   "execution_count": 8,
   "id": "82b36f3c",
   "metadata": {},
   "outputs": [],
   "source": [
    "df_concat = pd.concat(new_dfs)"
   ]
  },
  {
   "cell_type": "code",
   "execution_count": 9,
   "id": "8d59350e",
   "metadata": {},
   "outputs": [
    {
     "data": {
      "text/html": [
       "<div>\n",
       "<style scoped>\n",
       "    .dataframe tbody tr th:only-of-type {\n",
       "        vertical-align: middle;\n",
       "    }\n",
       "\n",
       "    .dataframe tbody tr th {\n",
       "        vertical-align: top;\n",
       "    }\n",
       "\n",
       "    .dataframe thead th {\n",
       "        text-align: right;\n",
       "    }\n",
       "</style>\n",
       "<table border=\"1\" class=\"dataframe\">\n",
       "  <thead>\n",
       "    <tr style=\"text-align: right;\">\n",
       "      <th></th>\n",
       "      <th>user_id</th>\n",
       "      <th>item_id</th>\n",
       "      <th>order_weight</th>\n",
       "    </tr>\n",
       "  </thead>\n",
       "  <tbody>\n",
       "    <tr>\n",
       "      <th>0</th>\n",
       "      <td>0</td>\n",
       "      <td>38629</td>\n",
       "      <td>6.338253e+29</td>\n",
       "    </tr>\n",
       "    <tr>\n",
       "      <th>1</th>\n",
       "      <td>0</td>\n",
       "      <td>2489</td>\n",
       "      <td>3.169127e+29</td>\n",
       "    </tr>\n",
       "    <tr>\n",
       "      <th>2</th>\n",
       "      <td>0</td>\n",
       "      <td>26494</td>\n",
       "      <td>1.584563e+29</td>\n",
       "    </tr>\n",
       "    <tr>\n",
       "      <th>3</th>\n",
       "      <td>0</td>\n",
       "      <td>44623</td>\n",
       "      <td>7.922816e+28</td>\n",
       "    </tr>\n",
       "    <tr>\n",
       "      <th>4</th>\n",
       "      <td>0</td>\n",
       "      <td>48094</td>\n",
       "      <td>3.961408e+28</td>\n",
       "    </tr>\n",
       "    <tr>\n",
       "      <th>...</th>\n",
       "      <td>...</td>\n",
       "      <td>...</td>\n",
       "      <td>...</td>\n",
       "    </tr>\n",
       "    <tr>\n",
       "      <th>19240295</th>\n",
       "      <td>192402</td>\n",
       "      <td>24959</td>\n",
       "      <td>1.600000e+01</td>\n",
       "    </tr>\n",
       "    <tr>\n",
       "      <th>19240296</th>\n",
       "      <td>192402</td>\n",
       "      <td>16595</td>\n",
       "      <td>8.000000e+00</td>\n",
       "    </tr>\n",
       "    <tr>\n",
       "      <th>19240297</th>\n",
       "      <td>192402</td>\n",
       "      <td>29321</td>\n",
       "      <td>4.000000e+00</td>\n",
       "    </tr>\n",
       "    <tr>\n",
       "      <th>19240298</th>\n",
       "      <td>192402</td>\n",
       "      <td>8087</td>\n",
       "      <td>2.000000e+00</td>\n",
       "    </tr>\n",
       "    <tr>\n",
       "      <th>19240299</th>\n",
       "      <td>192402</td>\n",
       "      <td>45587</td>\n",
       "      <td>1.000000e+00</td>\n",
       "    </tr>\n",
       "  </tbody>\n",
       "</table>\n",
       "<p>76961200 rows × 3 columns</p>\n",
       "</div>"
      ],
      "text/plain": [
       "          user_id  item_id  order_weight\n",
       "0               0    38629  6.338253e+29\n",
       "1               0     2489  3.169127e+29\n",
       "2               0    26494  1.584563e+29\n",
       "3               0    44623  7.922816e+28\n",
       "4               0    48094  3.961408e+28\n",
       "...           ...      ...           ...\n",
       "19240295   192402    24959  1.600000e+01\n",
       "19240296   192402    16595  8.000000e+00\n",
       "19240297   192402    29321  4.000000e+00\n",
       "19240298   192402     8087  2.000000e+00\n",
       "19240299   192402    45587  1.000000e+00\n",
       "\n",
       "[76961200 rows x 3 columns]"
      ]
     },
     "execution_count": 9,
     "metadata": {},
     "output_type": "execute_result"
    }
   ],
   "source": [
    "df_concat"
   ]
  },
  {
   "cell_type": "code",
   "execution_count": 10,
   "id": "56b883c5",
   "metadata": {},
   "outputs": [
    {
     "data": {
      "text/plain": [
       "0"
      ]
     },
     "execution_count": 10,
     "metadata": {},
     "output_type": "execute_result"
    }
   ],
   "source": [
    "import gc\n",
    "del new_dfs, df1, df2\n",
    "gc.collect()"
   ]
  },
  {
   "cell_type": "code",
   "execution_count": 11,
   "id": "29a06a4d",
   "metadata": {},
   "outputs": [],
   "source": [
    "df_grouped = df_concat.groupby(['user_id', 'item_id'])['order_weight'].mean().reset_index()\n",
    "\n",
    "del df_concat\n",
    "\n",
    "df_top_50 = df_grouped.groupby('user_id').apply(lambda x: x.nlargest(50, 'order_weight')).reset_index(drop=True)"
   ]
  },
  {
   "cell_type": "code",
   "execution_count": 12,
   "id": "478e8f80",
   "metadata": {},
   "outputs": [],
   "source": [
    "id_list_np = id_list.numpy()\n",
    "\n",
    "# id_list_np을 DataFrame으로 변환하여 index와 id 컬럼으로 구성\n",
    "df_id_list = pd.DataFrame({'index': np.arange(len(id_list_np)), 'user_id': id_list_np})\n",
    "\n",
    "# df_top_50과 df_id_list을 id 컬럼을 기준으로 병합\n",
    "df_sorted = pd.merge(df_top_50, df_id_list, on='user_id', how='left')\n",
    "\n",
    "del df_top_50\n",
    "\n",
    "# id를 정렬하고 order_weight을 내림차순으로 정렬\n",
    "df_sorted = df_sorted.sort_values(['index', 'order_weight'], ascending=[True, False]).reset_index(drop=True).drop(columns=['index'])"
   ]
  },
  {
   "cell_type": "code",
   "execution_count": 13,
   "id": "979bfae7",
   "metadata": {},
   "outputs": [
    {
     "data": {
      "text/html": [
       "<div>\n",
       "<style scoped>\n",
       "    .dataframe tbody tr th:only-of-type {\n",
       "        vertical-align: middle;\n",
       "    }\n",
       "\n",
       "    .dataframe tbody tr th {\n",
       "        vertical-align: top;\n",
       "    }\n",
       "\n",
       "    .dataframe thead th {\n",
       "        text-align: right;\n",
       "    }\n",
       "</style>\n",
       "<table border=\"1\" class=\"dataframe\">\n",
       "  <thead>\n",
       "    <tr style=\"text-align: right;\">\n",
       "      <th></th>\n",
       "      <th>user_id</th>\n",
       "      <th>item_id</th>\n",
       "      <th>order_weight</th>\n",
       "    </tr>\n",
       "  </thead>\n",
       "  <tbody>\n",
       "    <tr>\n",
       "      <th>0</th>\n",
       "      <td>114341</td>\n",
       "      <td>36933</td>\n",
       "      <td>4.753690e+29</td>\n",
       "    </tr>\n",
       "    <tr>\n",
       "      <th>1</th>\n",
       "      <td>114341</td>\n",
       "      <td>14265</td>\n",
       "      <td>3.169320e+29</td>\n",
       "    </tr>\n",
       "    <tr>\n",
       "      <th>2</th>\n",
       "      <td>114341</td>\n",
       "      <td>26442</td>\n",
       "      <td>1.287458e+29</td>\n",
       "    </tr>\n",
       "    <tr>\n",
       "      <th>3</th>\n",
       "      <td>114341</td>\n",
       "      <td>1175</td>\n",
       "      <td>1.213181e+29</td>\n",
       "    </tr>\n",
       "    <tr>\n",
       "      <th>4</th>\n",
       "      <td>114341</td>\n",
       "      <td>40057</td>\n",
       "      <td>7.922848e+28</td>\n",
       "    </tr>\n",
       "    <tr>\n",
       "      <th>...</th>\n",
       "      <td>...</td>\n",
       "      <td>...</td>\n",
       "      <td>...</td>\n",
       "    </tr>\n",
       "    <tr>\n",
       "      <th>9620145</th>\n",
       "      <td>43567</td>\n",
       "      <td>19862</td>\n",
       "      <td>1.180592e+21</td>\n",
       "    </tr>\n",
       "    <tr>\n",
       "      <th>9620146</th>\n",
       "      <td>43567</td>\n",
       "      <td>3533</td>\n",
       "      <td>5.903318e+20</td>\n",
       "    </tr>\n",
       "    <tr>\n",
       "      <th>9620147</th>\n",
       "      <td>43567</td>\n",
       "      <td>5345</td>\n",
       "      <td>5.902958e+20</td>\n",
       "    </tr>\n",
       "    <tr>\n",
       "      <th>9620148</th>\n",
       "      <td>43567</td>\n",
       "      <td>11423</td>\n",
       "      <td>5.902958e+20</td>\n",
       "    </tr>\n",
       "    <tr>\n",
       "      <th>9620149</th>\n",
       "      <td>43567</td>\n",
       "      <td>58033</td>\n",
       "      <td>2.951479e+20</td>\n",
       "    </tr>\n",
       "  </tbody>\n",
       "</table>\n",
       "<p>9620150 rows × 3 columns</p>\n",
       "</div>"
      ],
      "text/plain": [
       "         user_id  item_id  order_weight\n",
       "0         114341    36933  4.753690e+29\n",
       "1         114341    14265  3.169320e+29\n",
       "2         114341    26442  1.287458e+29\n",
       "3         114341     1175  1.213181e+29\n",
       "4         114341    40057  7.922848e+28\n",
       "...          ...      ...           ...\n",
       "9620145    43567    19862  1.180592e+21\n",
       "9620146    43567     3533  5.903318e+20\n",
       "9620147    43567     5345  5.902958e+20\n",
       "9620148    43567    11423  5.902958e+20\n",
       "9620149    43567    58033  2.951479e+20\n",
       "\n",
       "[9620150 rows x 3 columns]"
      ]
     },
     "execution_count": 13,
     "metadata": {},
     "output_type": "execute_result"
    }
   ],
   "source": [
    "df_sorted"
   ]
  },
  {
   "cell_type": "code",
   "execution_count": 14,
   "id": "3ed41d1c",
   "metadata": {},
   "outputs": [
    {
     "name": "stdout",
     "output_type": "stream",
     "text": [
      "[[36933 14265 26442 ... 32830 11627 13591]\n",
      " [10994 36933  3323 ... 37667  6131  9719]\n",
      " [37753 45064 10994 ... 51479 55313 26072]\n",
      " ...\n",
      " [10511 25900 56586 ... 12192 33172 50301]\n",
      " [ 1344 57043 53162 ...  7379  3533 40179]\n",
      " [ 2163 23590 34381 ...  5345 11423 58033]]\n"
     ]
    }
   ],
   "source": [
    "# DataFrame을 numpy 행렬로 변환합니다.\n",
    "user_ids = df_sorted['user_id'].unique()\n",
    "item_matrix = df_sorted['item_id'].values.reshape(len(user_ids), 50)\n",
    "\n",
    "print(item_matrix)  # 변환된 행렬을 출력합니다."
   ]
  },
  {
   "cell_type": "code",
   "execution_count": 15,
   "id": "dc414f71",
   "metadata": {},
   "outputs": [
    {
     "data": {
      "text/plain": [
       "50"
      ]
     },
     "execution_count": 15,
     "metadata": {},
     "output_type": "execute_result"
    }
   ],
   "source": [
    "len(item_matrix[0])"
   ]
  },
  {
   "cell_type": "markdown",
   "id": "d579173c",
   "metadata": {},
   "source": [
    "# topk_index 만들기"
   ]
  },
  {
   "cell_type": "code",
   "execution_count": 16,
   "id": "b6033ee5",
   "metadata": {},
   "outputs": [],
   "source": [
    "metrics = ['NDCG']\n",
    "topk_list = [50]\n",
    "topk_index = item_matrix"
   ]
  },
  {
   "cell_type": "code",
   "execution_count": 17,
   "id": "8465c7ac",
   "metadata": {},
   "outputs": [
    {
     "data": {
      "text/plain": [
       "array([36933, 14265, 26442,  1175, 40057, 14145, 10501, 61767, 24993,\n",
       "        7426,  1005, 22110, 57843, 55181, 19715, 61855,  3141, 50223,\n",
       "       12348, 22402,  3297, 24190, 55313, 58883, 59882, 52201, 37952,\n",
       "        3323,  5362, 28054, 31090, 51409, 32873, 40667, 11643, 35996,\n",
       "       57367, 33423, 43120, 25791,  4556, 41630, 35273, 26866, 40783,\n",
       "       13736, 34106, 32830, 11627, 13591], dtype=int32)"
      ]
     },
     "execution_count": 17,
     "metadata": {},
     "output_type": "execute_result"
    }
   ],
   "source": [
    "topk_index[0]"
   ]
  },
  {
   "cell_type": "code",
   "execution_count": 18,
   "id": "f8aa2132",
   "metadata": {},
   "outputs": [],
   "source": [
    "bool_rec_matrix = []\n",
    "for m, n in zip(pos_items, topk_index):\n",
    "    bool_rec_matrix.append([True if i in m else False for i in n])\n",
    "bool_rec_matrix = np.asarray(bool_rec_matrix)\n",
    "\n",
    "# get metrics\n",
    "metric_dict = {}\n",
    "result_list = _calculate_metrics(pos_len_list, bool_rec_matrix)\n",
    "for metric, value in zip(metrics, result_list):\n",
    "    for k in topk_list:\n",
    "        key = '{}@{}'.format(metric, k)\n",
    "        metric_dict[key] = round(value[k - 1], 4)\n",
    "\n",
    "ndcg_at_50 = metric_dict.get('NDCG@50', None)"
   ]
  },
  {
   "cell_type": "code",
   "execution_count": 19,
   "id": "4473c5a9",
   "metadata": {},
   "outputs": [
    {
     "data": {
      "text/plain": [
       "0.0"
      ]
     },
     "execution_count": 19,
     "metadata": {},
     "output_type": "execute_result"
    }
   ],
   "source": [
    "ndcg_at_50"
   ]
  },
  {
   "cell_type": "code",
   "execution_count": 20,
   "id": "d32fa95d",
   "metadata": {},
   "outputs": [
    {
     "data": {
      "text/plain": [
       "{'NDCG@50': 0.0}"
      ]
     },
     "execution_count": 20,
     "metadata": {},
     "output_type": "execute_result"
    }
   ],
   "source": [
    "metric_dict"
   ]
  },
  {
   "cell_type": "markdown",
   "id": "6dac9ac2",
   "metadata": {},
   "source": [
    "# save topk_index ( k=50)"
   ]
  },
  {
   "cell_type": "code",
   "execution_count": 21,
   "id": "d2ae4761",
   "metadata": {},
   "outputs": [],
   "source": [
    "max_k = 50\n",
    "\n",
    "# save topk_index (k=50)\n",
    "x_df = pd.DataFrame(topk_index)\n",
    "x_df.insert(0, 'id', id_list)\n",
    "x_df.columns = ['id']+['top_'+str(i) for i in range(max_k)]\n",
    "x_df = x_df.astype(int)\n",
    "# x_df.to_csv(file_path, sep='\\t', index=False)"
   ]
  },
  {
   "cell_type": "code",
   "execution_count": 22,
   "id": "1980cf58",
   "metadata": {},
   "outputs": [
    {
     "data": {
      "text/html": [
       "<div>\n",
       "<style scoped>\n",
       "    .dataframe tbody tr th:only-of-type {\n",
       "        vertical-align: middle;\n",
       "    }\n",
       "\n",
       "    .dataframe tbody tr th {\n",
       "        vertical-align: top;\n",
       "    }\n",
       "\n",
       "    .dataframe thead th {\n",
       "        text-align: right;\n",
       "    }\n",
       "</style>\n",
       "<table border=\"1\" class=\"dataframe\">\n",
       "  <thead>\n",
       "    <tr style=\"text-align: right;\">\n",
       "      <th></th>\n",
       "      <th>id</th>\n",
       "      <th>top_0</th>\n",
       "      <th>top_1</th>\n",
       "      <th>top_2</th>\n",
       "      <th>top_3</th>\n",
       "      <th>top_4</th>\n",
       "      <th>top_5</th>\n",
       "      <th>top_6</th>\n",
       "      <th>top_7</th>\n",
       "      <th>top_8</th>\n",
       "      <th>...</th>\n",
       "      <th>top_40</th>\n",
       "      <th>top_41</th>\n",
       "      <th>top_42</th>\n",
       "      <th>top_43</th>\n",
       "      <th>top_44</th>\n",
       "      <th>top_45</th>\n",
       "      <th>top_46</th>\n",
       "      <th>top_47</th>\n",
       "      <th>top_48</th>\n",
       "      <th>top_49</th>\n",
       "    </tr>\n",
       "  </thead>\n",
       "  <tbody>\n",
       "    <tr>\n",
       "      <th>0</th>\n",
       "      <td>114341</td>\n",
       "      <td>36933</td>\n",
       "      <td>14265</td>\n",
       "      <td>26442</td>\n",
       "      <td>1175</td>\n",
       "      <td>40057</td>\n",
       "      <td>14145</td>\n",
       "      <td>10501</td>\n",
       "      <td>61767</td>\n",
       "      <td>24993</td>\n",
       "      <td>...</td>\n",
       "      <td>4556</td>\n",
       "      <td>41630</td>\n",
       "      <td>35273</td>\n",
       "      <td>26866</td>\n",
       "      <td>40783</td>\n",
       "      <td>13736</td>\n",
       "      <td>34106</td>\n",
       "      <td>32830</td>\n",
       "      <td>11627</td>\n",
       "      <td>13591</td>\n",
       "    </tr>\n",
       "  </tbody>\n",
       "</table>\n",
       "<p>1 rows × 51 columns</p>\n",
       "</div>"
      ],
      "text/plain": [
       "       id  top_0  top_1  top_2  top_3  top_4  top_5  top_6  top_7  top_8  ...  \\\n",
       "0  114341  36933  14265  26442   1175  40057  14145  10501  61767  24993  ...   \n",
       "\n",
       "   top_40  top_41  top_42  top_43  top_44  top_45  top_46  top_47  top_48  \\\n",
       "0    4556   41630   35273   26866   40783   13736   34106   32830   11627   \n",
       "\n",
       "   top_49  \n",
       "0   13591  \n",
       "\n",
       "[1 rows x 51 columns]"
      ]
     },
     "execution_count": 22,
     "metadata": {},
     "output_type": "execute_result"
    }
   ],
   "source": [
    "x_df[x_df['id']==114341]"
   ]
  },
  {
   "cell_type": "code",
   "execution_count": 23,
   "id": "82111c42",
   "metadata": {},
   "outputs": [],
   "source": [
    "# melt 함수를 사용하여 재구성\n",
    "reshaped_df = x_df.melt(id_vars=['id'], value_vars=[f'top_{i}' for i in range(50)], value_name='top_items')\n",
    "\n",
    "# 'variable' column을 숫자로 변환\n",
    "reshaped_df['variable'] = reshaped_df['variable'].str.replace('top_', '').astype(int)\n",
    "\n",
    "# 'id'와 'variable' 컬럼 기준으로 오름차순 정렬\n",
    "sorted_df = reshaped_df.sort_values(by=['id', 'variable']).reset_index(drop=True).drop(columns=['variable'])\n",
    "\n",
    "# print(sorted_df)"
   ]
  },
  {
   "cell_type": "markdown",
   "id": "f5cb3a53",
   "metadata": {},
   "source": [
    "# submission 준비"
   ]
  },
  {
   "cell_type": "code",
   "execution_count": 24,
   "id": "9f40d3aa",
   "metadata": {},
   "outputs": [],
   "source": [
    "submission = sorted_df[['id', 'top_items']]\n",
    "submission.columns =['user_id', 'item_id']"
   ]
  },
  {
   "cell_type": "code",
   "execution_count": 25,
   "id": "d5a14d20",
   "metadata": {},
   "outputs": [
    {
     "data": {
      "text/html": [
       "<div>\n",
       "<style scoped>\n",
       "    .dataframe tbody tr th:only-of-type {\n",
       "        vertical-align: middle;\n",
       "    }\n",
       "\n",
       "    .dataframe tbody tr th {\n",
       "        vertical-align: top;\n",
       "    }\n",
       "\n",
       "    .dataframe thead th {\n",
       "        text-align: right;\n",
       "    }\n",
       "</style>\n",
       "<table border=\"1\" class=\"dataframe\">\n",
       "  <thead>\n",
       "    <tr style=\"text-align: right;\">\n",
       "      <th></th>\n",
       "      <th>user_id</th>\n",
       "      <th>item_id</th>\n",
       "    </tr>\n",
       "  </thead>\n",
       "  <tbody>\n",
       "    <tr>\n",
       "      <th>0</th>\n",
       "      <td>0</td>\n",
       "      <td>38629</td>\n",
       "    </tr>\n",
       "    <tr>\n",
       "      <th>1</th>\n",
       "      <td>0</td>\n",
       "      <td>2489</td>\n",
       "    </tr>\n",
       "    <tr>\n",
       "      <th>2</th>\n",
       "      <td>0</td>\n",
       "      <td>12124</td>\n",
       "    </tr>\n",
       "    <tr>\n",
       "      <th>3</th>\n",
       "      <td>0</td>\n",
       "      <td>52521</td>\n",
       "    </tr>\n",
       "    <tr>\n",
       "      <th>4</th>\n",
       "      <td>0</td>\n",
       "      <td>26494</td>\n",
       "    </tr>\n",
       "    <tr>\n",
       "      <th>...</th>\n",
       "      <td>...</td>\n",
       "      <td>...</td>\n",
       "    </tr>\n",
       "    <tr>\n",
       "      <th>9620145</th>\n",
       "      <td>192402</td>\n",
       "      <td>50478</td>\n",
       "    </tr>\n",
       "    <tr>\n",
       "      <th>9620146</th>\n",
       "      <td>192402</td>\n",
       "      <td>39826</td>\n",
       "    </tr>\n",
       "    <tr>\n",
       "      <th>9620147</th>\n",
       "      <td>192402</td>\n",
       "      <td>51536</td>\n",
       "    </tr>\n",
       "    <tr>\n",
       "      <th>9620148</th>\n",
       "      <td>192402</td>\n",
       "      <td>22354</td>\n",
       "    </tr>\n",
       "    <tr>\n",
       "      <th>9620149</th>\n",
       "      <td>192402</td>\n",
       "      <td>21915</td>\n",
       "    </tr>\n",
       "  </tbody>\n",
       "</table>\n",
       "<p>9620150 rows × 2 columns</p>\n",
       "</div>"
      ],
      "text/plain": [
       "         user_id  item_id\n",
       "0              0    38629\n",
       "1              0     2489\n",
       "2              0    12124\n",
       "3              0    52521\n",
       "4              0    26494\n",
       "...          ...      ...\n",
       "9620145   192402    50478\n",
       "9620146   192402    39826\n",
       "9620147   192402    51536\n",
       "9620148   192402    22354\n",
       "9620149   192402    21915\n",
       "\n",
       "[9620150 rows x 2 columns]"
      ]
     },
     "execution_count": 25,
     "metadata": {},
     "output_type": "execute_result"
    }
   ],
   "source": [
    "submission"
   ]
  },
  {
   "cell_type": "code",
   "execution_count": 26,
   "id": "e8299fd2",
   "metadata": {},
   "outputs": [
    {
     "name": "stdout",
     "output_type": "stream",
     "text": [
      "Series([], Name: count, dtype: int64)\n"
     ]
    }
   ],
   "source": [
    "counts = submission.groupby('user_id')['item_id'].value_counts()\n",
    "\n",
    "counts = counts[counts >= 2]\n",
    "print(counts)"
   ]
  },
  {
   "cell_type": "code",
   "execution_count": 27,
   "id": "ef187148",
   "metadata": {},
   "outputs": [],
   "source": [
    "submission.to_csv('0807_Ensemble_BM3_SLMRec_ver2.csv', index=False)"
   ]
  }
 ],
 "metadata": {
  "kernelspec": {
   "display_name": "torch_1.12.1",
   "language": "python",
   "name": "torch_1.12.1"
  },
  "language_info": {
   "codemirror_mode": {
    "name": "ipython",
    "version": 3
   },
   "file_extension": ".py",
   "mimetype": "text/x-python",
   "name": "python",
   "nbconvert_exporter": "python",
   "pygments_lexer": "ipython3",
   "version": "3.9.6"
  }
 },
 "nbformat": 4,
 "nbformat_minor": 5
}
